Dat Science Jupyter notebook assignment
