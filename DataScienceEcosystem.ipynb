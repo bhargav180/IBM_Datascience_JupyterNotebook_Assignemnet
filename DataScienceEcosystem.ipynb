# Data Science Tools and Ecosystem

In this notebook, Data Science Tools and Ecosystem are summarized.

## Objectives:
* List of popular Data Science languages
* List of popular Data Science libraries
* List of Data Science Tools

Some of the popular languages that Data Scientists use are:
1. Python
2. R
3. Julia
4. SQL

Some of the commonly used libraries used by Data Scientists include:
1. Numpy
2. Pandas
3. Scikit-learn
4. Seaborn
5. ggplot2

|Data Science Tools|
|------------------|
|Jupyter Notebook|
|RStudio|
|git|
|GitHub|

### Below are a few examples of evaluating arithmetic expressions in Python

# This a simple arithmetic expression to multiply then add integers
(3*4)+5

# This will convert 200 minutes to hours by diving by 60
200/6

## Author
Bhargavareddy Kothuahudya
